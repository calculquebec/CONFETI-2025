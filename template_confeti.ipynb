{
 "cells": [
  {
   "cell_type": "markdown",
   "metadata": {},
   "source": [
    "# CODE TEMPLATE "
   ]
  },
  {
   "cell_type": "code",
   "execution_count": null,
   "metadata": {},
   "outputs": [],
   "source": [
    "# add modules if needed\n",
    "\n",
    "import pennylane as qml\n",
    "import numpy as np\n",
    "import os\n",
    "from dotenv import load_dotenv\n",
    "\n",
    "\n",
    "### DO NOT CHANGE ###\n",
    "from pennylane_calculquebec.API.adapter import ApiAdapter\n",
    "from pennylane_calculquebec.API.client import MonarqClient\n",
    "from pennylane_calculquebec.processing.config import MonarqDefaultConfig, NoPlaceNoRouteConfig, EmptyConfig, MonarqDefaultConfigNoBenchmark\n",
    "from pennylane_calculquebec.processing.interfaces import PreProcStep, PostProcStep\n",
    "from pennylane_calculquebec.processing.steps import IBUReadoutMitigation, MatrixReadoutMitigation\n",
    "\n",
    "class PrintWires(PreProcStep):\n",
    "    def execute(self, tape):\n",
    "        print(tape.wires)\n",
    "        print(*tape.operations)\n",
    "        return tape"
   ]
  },
  {
   "cell_type": "code",
   "execution_count": 5,
   "metadata": {},
   "outputs": [],
   "source": [
    "### DO NOT CHANGE ###\n",
    "\n",
    "config = MonarqDefaultConfig()\n",
    "\n",
    "load_dotenv()\n",
    "HOST_ENV = os.getenv(\"HOST\")\n",
    "USER_ENV = os.getenv(\"USER\")\n",
    "ACCESS_TOKEN_ENV = os.getenv(\"ACCESS_TOKEN\")\n",
    "REALM_ENV = os.getenv(\"REALM\")\n",
    "\n",
    "my_client = MonarqClient(HOST_ENV , USER_ENV, ACCESS_TOKEN_ENV)\n"
   ]
  },
  {
   "cell_type": "code",
   "execution_count": null,
   "metadata": {},
   "outputs": [],
   "source": [
    "#### YOU CAN CHANGE THIS CELL ####\n",
    "\n",
    "num_qubits = 12  # the number of qubits you want to use, for now the max is 12\n",
    "num_shots = 1000 # number of shots, max is 1000\n"
   ]
  },
  {
   "cell_type": "markdown",
   "metadata": {},
   "source": [
    "Before running your circuit on MonarQ, it is good practice to simulate it. To do so, define a device using Pennylane's simulator  "
   ]
  },
  {
   "cell_type": "code",
   "execution_count": null,
   "metadata": {},
   "outputs": [],
   "source": [
    "sim_device = qml.device(\"default.qubit\", num_qubits, num_shots)\n",
    "@qml.qnode(sim_device)\n",
    "\n",
    "def my_circuit():\n",
    "    ### SIMULATE YOUR CIRCUIT\n",
    "\n",
    "    return qml.counts() # in simulation, you can use other measurement functions qml.state(), qml.probs(), qml.expval() ... "
   ]
  },
  {
   "cell_type": "code",
   "execution_count": null,
   "metadata": {},
   "outputs": [],
   "source": [
    "### DO NOT CHANGE ###\n",
    "\n",
    "dev = qml.device(\n",
    "    \"monarq.default\",\n",
    "    client= my_client,\n",
    "    wires= num_qubits,\n",
    "    shots=num_shots,\n",
    "    processing_config = config)"
   ]
  },
  {
   "cell_type": "code",
   "execution_count": null,
   "metadata": {},
   "outputs": [],
   "source": [
    "@qml.qnode(dev)\n",
    "\n",
    "def my_first_circuit_on_monarq():\n",
    "\n",
    "    ### THIS IS WHERE YOU WRITE YOUR CIRCUIT USING PENNYLANE ###\n",
    "\n",
    "    return qml.counts() # YOU MUST RETURN COUNTS WHEN USING MONARQ"
   ]
  },
  {
   "cell_type": "code",
   "execution_count": null,
   "metadata": {},
   "outputs": [],
   "source": [
    "# RUN IT ON MONARQ\n",
    "result = my_first_circuit_on_monarq()\n",
    "\n",
    "print(result)"
   ]
  },
  {
   "cell_type": "code",
   "execution_count": null,
   "metadata": {},
   "outputs": [],
   "source": [
    "# YOU CAN NOW DO ALL THE POST PROCESSING YOU WANT (ANALYZE YOUR DATA, PLOT IT ....)"
   ]
  }
 ],
 "metadata": {
  "kernelspec": {
   "display_name": "base",
   "language": "python",
   "name": "python3"
  },
  "language_info": {
   "codemirror_mode": {
    "name": "ipython",
    "version": 3
   },
   "file_extension": ".py",
   "mimetype": "text/x-python",
   "name": "python",
   "nbconvert_exporter": "python",
   "pygments_lexer": "ipython3",
   "version": "3.12.2"
  }
 },
 "nbformat": 4,
 "nbformat_minor": 2
}
